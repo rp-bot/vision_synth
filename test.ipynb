{
 "cells": [
  {
   "cell_type": "code",
   "execution_count": 10,
   "metadata": {},
   "outputs": [],
   "source": [
    "import numpy as np\n",
    "\n",
    "\n",
    "def frequency_in_major_scale(root_note, degree):\n",
    "    # Pattern of semitones in a major scale from the root note\n",
    "    if degree > 8 or degree < 1:\n",
    "        return ValueError\n",
    "\n",
    "    semitones_from_root = [0, 2, 4, 5, 7, 9, 11, 12]\n",
    "\n",
    "    n = root_note + semitones_from_root[degree-1]\n",
    "    return 440*(np.exp2((n-69)/12))\n",
    "\n",
    "    # return frequency\n",
    "\n",
    "\n",
    "root_n = 67  # Frequency of G4\n",
    "freq2scale = {}\n",
    "for i in range(1, 9):\n",
    "    freq2scale[i] = frequency_in_major_scale(root_n, i)"
   ]
  },
  {
   "cell_type": "code",
   "execution_count": 11,
   "metadata": {},
   "outputs": [
    {
     "data": {
      "text/plain": [
       "{1: 391.99543598174927,\n",
       " 2: 440.0,\n",
       " 3: 493.8833012561241,\n",
       " 4: 523.2511306011972,\n",
       " 5: 587.3295358348151,\n",
       " 6: 659.2551138257398,\n",
       " 7: 739.9888454232688,\n",
       " 8: 783.9908719634985}"
      ]
     },
     "execution_count": 11,
     "metadata": {},
     "output_type": "execute_result"
    }
   ],
   "source": [
    "freq2scale"
   ]
  },
  {
   "cell_type": "code",
   "execution_count": null,
   "metadata": {},
   "outputs": [],
   "source": []
  }
 ],
 "metadata": {
  "kernelspec": {
   "display_name": "vision_synth-NjCm0dDe",
   "language": "python",
   "name": "python3"
  },
  "language_info": {
   "codemirror_mode": {
    "name": "ipython",
    "version": 3
   },
   "file_extension": ".py",
   "mimetype": "text/x-python",
   "name": "python",
   "nbconvert_exporter": "python",
   "pygments_lexer": "ipython3",
   "version": "3.11.4"
  }
 },
 "nbformat": 4,
 "nbformat_minor": 2
}
