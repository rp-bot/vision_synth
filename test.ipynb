{
 "cells": [
  {
   "cell_type": "code",
   "execution_count": 1,
   "metadata": {},
   "outputs": [],
   "source": [
    "import numpy as np\n",
    "\n",
    "\n",
    "def frequency_in_major_scale(root_note, degree):\n",
    "    # Pattern of semitones in a major scale from the root note\n",
    "    if degree > 8 or degree < 1:\n",
    "        return ValueError\n",
    "\n",
    "    semitones_from_root = [0, 2, 4, 5, 7, 9, 11, 12]\n",
    "\n",
    "    n = root_note + semitones_from_root[degree-1]\n",
    "    return 440*(np.exp2((n-69)/12))\n",
    "\n",
    "    # return frequency\n",
    "\n",
    "\n",
    "root_n = 62  # Frequency of A3\n",
    "freq2scale = {}\n",
    "for i in range(1, 9):\n",
    "    freq2scale[i] = frequency_in_major_scale(root_n, i)"
   ]
  },
  {
   "cell_type": "code",
   "execution_count": 2,
   "metadata": {},
   "outputs": [
    {
     "data": {
      "text/plain": [
       "{1: 220.0,\n",
       " 2: 246.94165062806206,\n",
       " 3: 277.1826309768721,\n",
       " 4: 293.6647679174076,\n",
       " 5: 329.6275569128699,\n",
       " 6: 369.9944227116344,\n",
       " 7: 415.3046975799451,\n",
       " 8: 440.0}"
      ]
     },
     "execution_count": 2,
     "metadata": {},
     "output_type": "execute_result"
    }
   ],
   "source": [
    "freq2scale"
   ]
  },
  {
   "cell_type": "code",
   "execution_count": null,
   "metadata": {},
   "outputs": [],
   "source": []
  }
 ],
 "metadata": {
  "kernelspec": {
   "display_name": "vision_synth-NjCm0dDe",
   "language": "python",
   "name": "python3"
  },
  "language_info": {
   "codemirror_mode": {
    "name": "ipython",
    "version": 3
   },
   "file_extension": ".py",
   "mimetype": "text/x-python",
   "name": "python",
   "nbconvert_exporter": "python",
   "pygments_lexer": "ipython3",
   "version": "3.11.4"
  }
 },
 "nbformat": 4,
 "nbformat_minor": 2
}
